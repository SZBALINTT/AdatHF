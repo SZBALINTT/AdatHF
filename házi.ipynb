{
    "metadata": {
        "kernelspec": {
            "name": "SQL",
            "display_name": "SQL",
            "language": "sql"
        },
        "language_info": {
            "name": "sql",
            "version": ""
        }
    },
    "nbformat_minor": 2,
    "nbformat": 4,
    "cells": [
        {
            "cell_type": "code",
            "source": [
                "SELECT Vendor AS 'Ismétlődő nevek'\r\n",
                "FROM Flat\r\n",
                "GROUP BY Vendor\r\n",
                "HAVING COUNT(Vendor)>1\r\n",
                "SELECT MAX(LEN(REPLACE(Vendor,' ',''))) AS 'Leghosszabb név', MIN(LEN(REPLACE(Vendor,' ',''))) AS 'Legrövidebb név'\r\n",
                "FROM Flat\r\n",
                "SELECT COUNT(DISTINCT(Vendor)) AS 'Egyedi nevek száma'\r\n",
                "FROM Flat          "
            ],
            "metadata": {
                "azdata_cell_guid": "130bad0c-435a-44c0-bd70-a90b54b84ff5",
                "language": "sql",
                "tags": []
            },
            "outputs": [
                {
                    "output_type": "display_data",
                    "data": {
                        "text/html": "(28 rows affected)"
                    },
                    "metadata": {}
                },
                {
                    "output_type": "display_data",
                    "data": {
                        "text/html": "(1 row affected)"
                    },
                    "metadata": {}
                },
                {
                    "output_type": "display_data",
                    "data": {
                        "text/html": "(1 row affected)"
                    },
                    "metadata": {}
                },
                {
                    "output_type": "display_data",
                    "data": {
                        "text/html": "Total execution time: 00:00:00.050"
                    },
                    "metadata": {}
                },
                {
                    "output_type": "execute_result",
                    "metadata": {},
                    "execution_count": 98,
                    "data": {
                        "application/vnd.dataresource+json": {
                            "schema": {
                                "fields": [
                                    {
                                        "name": "Ismétlődő nevek"
                                    }
                                ]
                            },
                            "data": [
                                {
                                    "Ismétlődő nevek": "Andrew  Meyer"
                                },
                                {
                                    "Ismétlődő nevek": "Arturo  Francis"
                                },
                                {
                                    "Ismétlődő nevek": "Ben  Perez"
                                },
                                {
                                    "Ismétlődő nevek": "Beth  Tucker"
                                },
                                {
                                    "Ismétlődő nevek": "Billie  Chandler"
                                },
                                {
                                    "Ismétlődő nevek": "Bobbie  Ryan"
                                },
                                {
                                    "Ismétlődő nevek": "Brooke  Horton"
                                },
                                {
                                    "Ismétlődő nevek": "Cassandra  Franklin"
                                },
                                {
                                    "Ismétlődő nevek": "Cindy  Becker"
                                },
                                {
                                    "Ismétlődő nevek": "Colleen  Warren"
                                },
                                {
                                    "Ismétlődő nevek": "Dan  Peterson"
                                },
                                {
                                    "Ismétlődő nevek": "Della  Jensen"
                                },
                                {
                                    "Ismétlődő nevek": "Drew  Rogers"
                                },
                                {
                                    "Ismétlődő nevek": "Elaine  Ellis"
                                },
                                {
                                    "Ismétlődő nevek": "Eric  Rose"
                                },
                                {
                                    "Ismétlődő nevek": "Guillermo  Potter"
                                },
                                {
                                    "Ismétlődő nevek": "Isabel  Cross"
                                },
                                {
                                    "Ismétlődő nevek": "Ivan  Adkins"
                                },
                                {
                                    "Ismétlődő nevek": "Jenny  Garcia"
                                },
                                {
                                    "Ismétlődő nevek": "Lorraine  Gibson"
                                },
                                {
                                    "Ismétlődő nevek": "Mable  Lindsey"
                                },
                                {
                                    "Ismétlődő nevek": "Max  Rodgers"
                                },
                                {
                                    "Ismétlődő nevek": "Nellie  Joseph"
                                },
                                {
                                    "Ismétlődő nevek": "Peter  Hodges"
                                },
                                {
                                    "Ismétlődő nevek": "Rachel  Gomez"
                                },
                                {
                                    "Ismétlődő nevek": "Robert  Munoz"
                                },
                                {
                                    "Ismétlődő nevek": "Salvador  Bass"
                                },
                                {
                                    "Ismétlődő nevek": "Shari  Silva"
                                }
                            ]
                        },
                        "text/html": [
                            "<table>",
                            "<tr><th>Ismétlődő nevek</th></tr>",
                            "<tr><td>Andrew  Meyer</td></tr>",
                            "<tr><td>Arturo  Francis</td></tr>",
                            "<tr><td>Ben  Perez</td></tr>",
                            "<tr><td>Beth  Tucker</td></tr>",
                            "<tr><td>Billie  Chandler</td></tr>",
                            "<tr><td>Bobbie  Ryan</td></tr>",
                            "<tr><td>Brooke  Horton</td></tr>",
                            "<tr><td>Cassandra  Franklin</td></tr>",
                            "<tr><td>Cindy  Becker</td></tr>",
                            "<tr><td>Colleen  Warren</td></tr>",
                            "<tr><td>Dan  Peterson</td></tr>",
                            "<tr><td>Della  Jensen</td></tr>",
                            "<tr><td>Drew  Rogers</td></tr>",
                            "<tr><td>Elaine  Ellis</td></tr>",
                            "<tr><td>Eric  Rose</td></tr>",
                            "<tr><td>Guillermo  Potter</td></tr>",
                            "<tr><td>Isabel  Cross</td></tr>",
                            "<tr><td>Ivan  Adkins</td></tr>",
                            "<tr><td>Jenny  Garcia</td></tr>",
                            "<tr><td>Lorraine  Gibson</td></tr>",
                            "<tr><td>Mable  Lindsey</td></tr>",
                            "<tr><td>Max  Rodgers</td></tr>",
                            "<tr><td>Nellie  Joseph</td></tr>",
                            "<tr><td>Peter  Hodges</td></tr>",
                            "<tr><td>Rachel  Gomez</td></tr>",
                            "<tr><td>Robert  Munoz</td></tr>",
                            "<tr><td>Salvador  Bass</td></tr>",
                            "<tr><td>Shari  Silva</td></tr>",
                            "</table>"
                        ]
                    }
                },
                {
                    "output_type": "execute_result",
                    "metadata": {},
                    "execution_count": 98,
                    "data": {
                        "application/vnd.dataresource+json": {
                            "schema": {
                                "fields": [
                                    {
                                        "name": "Leghosszabb név"
                                    },
                                    {
                                        "name": "Legrövidebb név"
                                    }
                                ]
                            },
                            "data": [
                                {
                                    "Leghosszabb név": "17",
                                    "Legrövidebb név": "7"
                                }
                            ]
                        },
                        "text/html": [
                            "<table>",
                            "<tr><th>Leghosszabb név</th><th>Legrövidebb név</th></tr>",
                            "<tr><td>17</td><td>7</td></tr>",
                            "</table>"
                        ]
                    }
                },
                {
                    "output_type": "execute_result",
                    "metadata": {},
                    "execution_count": 98,
                    "data": {
                        "application/vnd.dataresource+json": {
                            "schema": {
                                "fields": [
                                    {
                                        "name": "Egyedi nevek száma"
                                    }
                                ]
                            },
                            "data": [
                                {
                                    "Egyedi nevek száma": "51"
                                }
                            ]
                        },
                        "text/html": [
                            "<table>",
                            "<tr><th>Egyedi nevek száma</th></tr>",
                            "<tr><td>51</td></tr>",
                            "</table>"
                        ]
                    }
                }
            ],
            "execution_count": 98
        },
        {
            "cell_type": "code",
            "source": [
                "SELECT COUNT(Price) AS 'Nullára kerekített árak'      \r\n",
                "FROM Flat\r\n",
                "WHERE Price-ROUND(Price,0)=0\r\n",
                "SELECT ROUND(AVG(Price),2) AS 'Átlagár'\r\n",
                "FROM Flat\r\n",
                "SELECT ROUND(STDEV(Price),2) AS 'Szórás'\r\n",
                "FROM Flat"
            ],
            "metadata": {
                "azdata_cell_guid": "48ecfeed-cb30-4e44-8ed3-75fb787bf98a",
                "language": "sql"
            },
            "outputs": [
                {
                    "output_type": "display_data",
                    "data": {
                        "text/html": "(1 row affected)"
                    },
                    "metadata": {}
                },
                {
                    "output_type": "display_data",
                    "data": {
                        "text/html": "(1 row affected)"
                    },
                    "metadata": {}
                },
                {
                    "output_type": "display_data",
                    "data": {
                        "text/html": "(1 row affected)"
                    },
                    "metadata": {}
                },
                {
                    "output_type": "display_data",
                    "data": {
                        "text/html": "Total execution time: 00:00:00.023"
                    },
                    "metadata": {}
                },
                {
                    "output_type": "execute_result",
                    "metadata": {},
                    "execution_count": 102,
                    "data": {
                        "application/vnd.dataresource+json": {
                            "schema": {
                                "fields": [
                                    {
                                        "name": "Nullára kerekített árak"
                                    }
                                ]
                            },
                            "data": [
                                {
                                    "Nullára kerekített árak": "29"
                                }
                            ]
                        },
                        "text/html": [
                            "<table>",
                            "<tr><th>Nullára kerekített árak</th></tr>",
                            "<tr><td>29</td></tr>",
                            "</table>"
                        ]
                    }
                },
                {
                    "output_type": "execute_result",
                    "metadata": {},
                    "execution_count": 102,
                    "data": {
                        "application/vnd.dataresource+json": {
                            "schema": {
                                "fields": [
                                    {
                                        "name": "Átlagár"
                                    }
                                ]
                            },
                            "data": [
                                {
                                    "Átlagár": "17.060000"
                                }
                            ]
                        },
                        "text/html": [
                            "<table>",
                            "<tr><th>Átlagár</th></tr>",
                            "<tr><td>17.060000</td></tr>",
                            "</table>"
                        ]
                    }
                },
                {
                    "output_type": "execute_result",
                    "metadata": {},
                    "execution_count": 102,
                    "data": {
                        "application/vnd.dataresource+json": {
                            "schema": {
                                "fields": [
                                    {
                                        "name": "Szórás"
                                    }
                                ]
                            },
                            "data": [
                                {
                                    "Szórás": "8,65"
                                }
                            ]
                        },
                        "text/html": [
                            "<table>",
                            "<tr><th>Szórás</th></tr>",
                            "<tr><td>8,65</td></tr>",
                            "</table>"
                        ]
                    }
                }
            ],
            "execution_count": 102
        }
    ]
}